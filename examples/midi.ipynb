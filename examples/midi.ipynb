{
 "cells": [
  {
   "cell_type": "code",
   "execution_count": 1,
   "id": "4d4ad201-0c48-4476-84c6-9fd3c8d13863",
   "metadata": {},
   "outputs": [],
   "source": [
    "#pragma cling add_include_path(\"../src\")\n"
   ]
  },
  {
   "cell_type": "code",
   "execution_count": 2,
   "id": "a63d7152-958c-446c-b746-bb8c30535a51",
   "metadata": {},
   "outputs": [],
   "source": [
    "#include \"MidiFileParserMultiTrack.h\""
   ]
  },
  {
   "cell_type": "code",
   "execution_count": 3,
   "id": "d6eb3c25-ce9f-478d-855c-2d32707fbaa7",
   "metadata": {},
   "outputs": [],
   "source": [
    "midi::MidiFileParserMultiTrack parser;"
   ]
  },
  {
   "cell_type": "code",
   "execution_count": 4,
   "id": "cc803fb9-dcda-49ca-a508-bc772651b80e",
   "metadata": {},
   "outputs": [
    {
     "data": {
      "text/plain": [
       "true"
      ]
     },
     "execution_count": 4,
     "metadata": {},
     "output_type": "execute_result"
    }
   ],
   "source": [
    "(bool)parser"
   ]
  },
  {
   "cell_type": "code",
   "execution_count": 5,
   "id": "5a132437-a072-49f5-960e-4de572b7a152",
   "metadata": {},
   "outputs": [
    {
     "data": {
      "text/plain": [
       "0"
      ]
     },
     "execution_count": 5,
     "metadata": {},
     "output_type": "execute_result"
    }
   ],
   "source": [
    "parser.size()"
   ]
  },
  {
   "cell_type": "code",
   "execution_count": null,
   "id": "b75a5a55-60a7-44f2-9654-72f84059dd01",
   "metadata": {},
   "outputs": [],
   "source": []
  }
 ],
 "metadata": {
  "kernelspec": {
   "display_name": "C++17",
   "language": "C++17",
   "name": "xcpp17"
  },
  "language_info": {
   "codemirror_mode": "text/x-c++src",
   "file_extension": ".cpp",
   "mimetype": "text/x-c++src",
   "name": "c++",
   "version": "17"
  }
 },
 "nbformat": 4,
 "nbformat_minor": 5
}
